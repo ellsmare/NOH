{
 "cells": [
  {
   "cell_type": "code",
   "execution_count": 1,
   "id": "cc9a30e5",
   "metadata": {},
   "outputs": [
    {
     "ename": "KeyboardInterrupt",
     "evalue": "Interrupted by user",
     "output_type": "error",
     "traceback": [
      "\u001b[1;31m---------------------------------------------------------------------------\u001b[0m",
      "\u001b[1;31mKeyboardInterrupt\u001b[0m                         Traceback (most recent call last)",
      "Cell \u001b[1;32mIn[1], line 4\u001b[0m\n\u001b[0;32m      1\u001b[0m \u001b[38;5;66;03m#Missoin_1.  구구단프로그램을 작성해주세요. \u001b[39;00m\n\u001b[0;32m      2\u001b[0m \u001b[38;5;66;03m#단을 입력하면 입력받은 단까지 모두 출력해주세요.\u001b[39;00m\n\u001b[1;32m----> 4\u001b[0m Input \u001b[38;5;241m=\u001b[39m \u001b[38;5;28mint\u001b[39m(\u001b[38;5;28;43minput\u001b[39;49m\u001b[43m(\u001b[49m\u001b[38;5;124;43m\"\u001b[39;49m\u001b[38;5;124;43m구구단 출력하기 : \u001b[39;49m\u001b[38;5;124;43m\"\u001b[39;49m\u001b[43m)\u001b[49m)\n\u001b[0;32m      5\u001b[0m \u001b[38;5;28mprint\u001b[39m(\u001b[38;5;124m\"\u001b[39m\u001b[38;5;130;01m\\n\u001b[39;00m\u001b[38;5;124m\"\u001b[39m)\n\u001b[0;32m      7\u001b[0m \u001b[38;5;28;01mwhile\u001b[39;00m \u001b[38;5;28;01mTrue\u001b[39;00m:\n",
      "File \u001b[1;32mC:\\ProgramData\\anaconda3\\lib\\site-packages\\ipykernel\\kernelbase.py:1175\u001b[0m, in \u001b[0;36mKernel.raw_input\u001b[1;34m(self, prompt)\u001b[0m\n\u001b[0;32m   1171\u001b[0m \u001b[38;5;28;01mif\u001b[39;00m \u001b[38;5;129;01mnot\u001b[39;00m \u001b[38;5;28mself\u001b[39m\u001b[38;5;241m.\u001b[39m_allow_stdin:\n\u001b[0;32m   1172\u001b[0m     \u001b[38;5;28;01mraise\u001b[39;00m StdinNotImplementedError(\n\u001b[0;32m   1173\u001b[0m         \u001b[38;5;124m\"\u001b[39m\u001b[38;5;124mraw_input was called, but this frontend does not support input requests.\u001b[39m\u001b[38;5;124m\"\u001b[39m\n\u001b[0;32m   1174\u001b[0m     )\n\u001b[1;32m-> 1175\u001b[0m \u001b[38;5;28;01mreturn\u001b[39;00m \u001b[38;5;28;43mself\u001b[39;49m\u001b[38;5;241;43m.\u001b[39;49m\u001b[43m_input_request\u001b[49m\u001b[43m(\u001b[49m\n\u001b[0;32m   1176\u001b[0m \u001b[43m    \u001b[49m\u001b[38;5;28;43mstr\u001b[39;49m\u001b[43m(\u001b[49m\u001b[43mprompt\u001b[49m\u001b[43m)\u001b[49m\u001b[43m,\u001b[49m\n\u001b[0;32m   1177\u001b[0m \u001b[43m    \u001b[49m\u001b[38;5;28;43mself\u001b[39;49m\u001b[38;5;241;43m.\u001b[39;49m\u001b[43m_parent_ident\u001b[49m\u001b[43m[\u001b[49m\u001b[38;5;124;43m\"\u001b[39;49m\u001b[38;5;124;43mshell\u001b[39;49m\u001b[38;5;124;43m\"\u001b[39;49m\u001b[43m]\u001b[49m\u001b[43m,\u001b[49m\n\u001b[0;32m   1178\u001b[0m \u001b[43m    \u001b[49m\u001b[38;5;28;43mself\u001b[39;49m\u001b[38;5;241;43m.\u001b[39;49m\u001b[43mget_parent\u001b[49m\u001b[43m(\u001b[49m\u001b[38;5;124;43m\"\u001b[39;49m\u001b[38;5;124;43mshell\u001b[39;49m\u001b[38;5;124;43m\"\u001b[39;49m\u001b[43m)\u001b[49m\u001b[43m,\u001b[49m\n\u001b[0;32m   1179\u001b[0m \u001b[43m    \u001b[49m\u001b[43mpassword\u001b[49m\u001b[38;5;241;43m=\u001b[39;49m\u001b[38;5;28;43;01mFalse\u001b[39;49;00m\u001b[43m,\u001b[49m\n\u001b[0;32m   1180\u001b[0m \u001b[43m\u001b[49m\u001b[43m)\u001b[49m\n",
      "File \u001b[1;32mC:\\ProgramData\\anaconda3\\lib\\site-packages\\ipykernel\\kernelbase.py:1217\u001b[0m, in \u001b[0;36mKernel._input_request\u001b[1;34m(self, prompt, ident, parent, password)\u001b[0m\n\u001b[0;32m   1214\u001b[0m             \u001b[38;5;28;01mbreak\u001b[39;00m\n\u001b[0;32m   1215\u001b[0m \u001b[38;5;28;01mexcept\u001b[39;00m \u001b[38;5;167;01mKeyboardInterrupt\u001b[39;00m:\n\u001b[0;32m   1216\u001b[0m     \u001b[38;5;66;03m# re-raise KeyboardInterrupt, to truncate traceback\u001b[39;00m\n\u001b[1;32m-> 1217\u001b[0m     \u001b[38;5;28;01mraise\u001b[39;00m \u001b[38;5;167;01mKeyboardInterrupt\u001b[39;00m(\u001b[38;5;124m\"\u001b[39m\u001b[38;5;124mInterrupted by user\u001b[39m\u001b[38;5;124m\"\u001b[39m) \u001b[38;5;28;01mfrom\u001b[39;00m \u001b[38;5;28mNone\u001b[39m\n\u001b[0;32m   1218\u001b[0m \u001b[38;5;28;01mexcept\u001b[39;00m \u001b[38;5;167;01mException\u001b[39;00m:\n\u001b[0;32m   1219\u001b[0m     \u001b[38;5;28mself\u001b[39m\u001b[38;5;241m.\u001b[39mlog\u001b[38;5;241m.\u001b[39mwarning(\u001b[38;5;124m\"\u001b[39m\u001b[38;5;124mInvalid Message:\u001b[39m\u001b[38;5;124m\"\u001b[39m, exc_info\u001b[38;5;241m=\u001b[39m\u001b[38;5;28;01mTrue\u001b[39;00m)\n",
      "\u001b[1;31mKeyboardInterrupt\u001b[0m: Interrupted by user"
     ]
    }
   ],
   "source": [
    "#Missoin_1.  구구단프로그램을 작성해주세요. \n",
    "#단을 입력하면 입력받은 단까지 모두 출력해주세요.\n",
    "\n",
    "Input = int(input(\"구구단 출력하기 : \"))\n",
    "print(\"\\n\")\n",
    "\n",
    "while True:\n",
    "    print(\"구구단\",Input,\"단\")\n",
    "    for num in range(1,10) :\n",
    "        anw=Input*num\n",
    "        print(Input,\"*\", num,\"=\",anw)\n",
    "        num+=1\n",
    "    break\n"
   ]
  },
  {
   "cell_type": "code",
   "execution_count": 5,
   "id": "5e12d8d1",
   "metadata": {},
   "outputs": [
    {
     "name": "stdout",
     "output_type": "stream",
     "text": [
      "입력하기10\n",
      "1 개 정수를 입력하였습니다\n"
     ]
    },
    {
     "ename": "IndexError",
     "evalue": "list assignment index out of range",
     "output_type": "error",
     "traceback": [
      "\u001b[1;31m---------------------------------------------------------------------------\u001b[0m",
      "\u001b[1;31mIndexError\u001b[0m                                Traceback (most recent call last)",
      "Cell \u001b[1;32mIn[5], line 9\u001b[0m\n\u001b[0;32m      7\u001b[0m     \u001b[38;5;28mprint\u001b[39m(num,\u001b[38;5;124m\"\u001b[39m\u001b[38;5;124m개 정수를 입력하였습니다\u001b[39m\u001b[38;5;124m\"\u001b[39m)\n\u001b[0;32m      8\u001b[0m     \u001b[38;5;28;01mif\u001b[39;00m Input\u001b[38;5;241m%\u001b[39m\u001b[38;5;241m2\u001b[39m\u001b[38;5;241m==\u001b[39m\u001b[38;5;241m0\u001b[39m:\n\u001b[1;32m----> 9\u001b[0m         even[\u001b[38;5;241m0\u001b[39m]\u001b[38;5;241m=\u001b[39mInput\n\u001b[0;32m     11\u001b[0m \u001b[38;5;28mprint\u001b[39m(even[\u001b[38;5;241m0\u001b[39m])\n",
      "\u001b[1;31mIndexError\u001b[0m: list assignment index out of range"
     ]
    }
   ],
   "source": [
    "#Missoin_2.  20개의 정수를 입력 받아서 짝수와 홀수를 구분하여 저장해주세요. \n",
    "#           저장된 수의 총합이 얼마인지와 짝수의 합이 큰지 홀수의 합이 큰지를 알려주는 코드를 작성해주세요 \n",
    "\n",
    "\n",
    "for num in range(1,2):    \n",
    "    Input= int(input(\"입력하기\")) \n",
    "    print(num,\"개 정수를 입력하였습니다\")\n",
    "    if Input%2==0:\n",
    "        even[0]=Input\n",
    "         \n",
    "print(even[0])\n",
    "\n",
    "    "
   ]
  },
  {
   "cell_type": "code",
   "execution_count": null,
   "id": "8e5c507a",
   "metadata": {},
   "outputs": [],
   "source": [
    "#Mission_3. 오늘의 기분을 입력받아서 입력한 기분 값이 10를 넘으면 그 기분에 맞는 내용을 알려주는 코드를 작성해주세요.\n",
    "feel=int(input(\"오늘의 기분을 수치로 나타내세요 : \"))\n",
    "\n",
    "if feel >9:\n",
    "    print(\"스트레스가 쌓였습니다. 휴식을 취하세요\")\n",
    "else :\n",
    "    print(\"지금은 기분이 좋습니다.\")"
   ]
  },
  {
   "cell_type": "code",
   "execution_count": null,
   "id": "4fc76025",
   "metadata": {},
   "outputs": [],
   "source": [
    "#Mission_4. 아래의 코드를 보고 입력받은 5개의 성적을 기준을 작성하여 코드를 완성해주세요..\n",
    "#           단, 아래의 코드는 변경이 불가능합니다.\n",
    "\n",
    "mx_index = scores.index(mx_score) + 1\n",
    "min_index = scores.index(min_score) + 1\n",
    "print( \"입력한 성적중 \"+ str(mx_index) + \"번째 점수가 가장 높은 \"+ str(mx_score) + \"입니다.\")\n",
    "print( \"입력한 성적중 \"+ str(min_index) + \"번째 점수가 가장 낮은 \"+ str(min_score) + \"입니다.\")\n",
    "# 입력한 성적중 #번째 점수가 가장 높은 #점입니다."
   ]
  },
  {
   "cell_type": "code",
   "execution_count": null,
   "id": "d0e5c84e",
   "metadata": {},
   "outputs": [],
   "source": [
    "#Mission_5. 아래의 Song의 내용을 분석할 수 있는 코드를 작성하여 정략적 수치를 통해 의견을 작성해주세요..\n",
    "\n",
    "# [의견 작성]\n",
    "# 부정적인 단어 사용이 많다. your 단어가 많다 상대를 비판하고 있다\n",
    "\n",
    "\n",
    "song = \"\"\"Fuck you and your mom and your sister and your job and your broke ass car and that shit you call art\n",
    "       fuck you And your friends that i'll never see again everybody but your dog you can all FUCK OFF i swear i meant to mean the best when it ended even try to bite my tongue when you start shit\n",
    "       now you're texting all my friends asking questions hey never even liked you in the first place\"\"\"\n",
    "# song의 문자열을 스플릿해서 dist에 넣기\n",
    "dist=song.split()\n",
    "\n",
    "# 딕셔너리 생성, {값:키}\n",
    "dup={}\n",
    "for word in dist:\n",
    "    if word not in dup.keys():\n",
    "        dup[word]=1\n",
    "    else :\n",
    "        dup[word] += 1\n",
    "        \n",
    "print(dup)\n",
    "\n",
    "!pip install matplotlib\n",
    "import matplotlib.pyplot as plt\n",
    "\n",
    "# 가로축 : key\n",
    "x=[word for word in dup.keys()]\n",
    "# 세로축 : values\n",
    "y=[word for word in dup.values()]\n",
    "\n",
    "\n",
    "plt.figure(figsize=(50,15))\n",
    "\n",
    "plt.bar(x,y, color='b', label='word')\n",
    "\n",
    "plt.xlabel('Word', fontsize=30, color='w')\n",
    "\n",
    "plt.ylabel('Count', fontsize=30, color='w')\n",
    "\n",
    "\n",
    "\n",
    "plt.xticks(x, fontsize=22, color='r')\n",
    "\n",
    "plt.title('Pome of Word Count', fontsize=50, color='w')\n",
    "\n",
    "plt.rcParams['axes.grid'] = True\n",
    "\n",
    "plt.legend(loc=4)\n"
   ]
  },
  {
   "cell_type": "code",
   "execution_count": 8,
   "id": "ad135f5c",
   "metadata": {},
   "outputs": [
    {
     "name": "stdout",
     "output_type": "stream",
     "text": [
      "이름입력 : eee\n",
      "점수입력 : 50\n",
      "eee 학점 :  F\n"
     ]
    }
   ],
   "source": [
    "#Mission_6. 이름과 점수를 입력하면 학점을 반환하여 저장하는 코드를 작성해주세요.\n",
    "\n",
    "while True:\n",
    "    name = input(\"이름입력 : \") \n",
    "    score = int(input(\"점수입력 : \"))\n",
    "    if score>89:    \n",
    "        name_score=\"A\"\n",
    "        print(name,\"학점 : \", name_score)\n",
    "        break\n",
    "        \n",
    "    elif score >79:    \n",
    "        name_score=\"B\"\n",
    "        print(name,\"학점 : \", name_score)\n",
    "        break\n",
    "   \n",
    "    elif score >69:    \n",
    "        name_score=\"C\"\n",
    "        print(name,\"학점 : \", name_score)\n",
    "        break  \n",
    "       \n",
    "    elif score >59:    \n",
    "        name_score=\"C\"\n",
    "        print(name,\"학점 : \", name_score)\n",
    "        break          \n",
    "       \n",
    "    else:    \n",
    "        name_score=\"F\"\n",
    "        print(name,\"학점 : \", name_score)\n",
    "        break     \n",
    "   "
   ]
  },
  {
   "cell_type": "code",
   "execution_count": null,
   "id": "585b61de",
   "metadata": {},
   "outputs": [],
   "source": [
    "#Mission_7. 피보나치수열은 첫째 및 둘째 항이 1이며 그 뒤의 모든 항은 바로 앞 두 항의 합인 수열이다.\n",
    "#           수열을 코드로 작성해주세요.\n",
    "\n",
    "# 초기화\n",
    "a, b = 0,1\n",
    "n=int(input(\"숫자입력\"))\n",
    "for i in range(n-1):\n",
    "    a, b = b, a+b\n",
    "    print(b)"
   ]
  },
  {
   "cell_type": "code",
   "execution_count": null,
   "id": "180bf7a1",
   "metadata": {},
   "outputs": [],
   "source": [
    "#Missoin_8. 아래의 내용을 보고 결과를 출력하는 코드를 작성해주세요.\n",
    "'''10보다 작은 자연수 중에서 3 또는 5의 배수는 3, 5, 6, 9 이고, 이것을 모두 더하면 23입니다.\n",
    "   1000보다 작은 자연수 중에서 3 또는 5의 배수를 모두 더하면 얼마일까요?'''\n",
    "sum=0\n",
    "for i in range(1,1000):\n",
    "    if (i%3==0) | (i%5==0) :\n",
    "        num=i\n",
    "        sum +=num\n",
    "print(sum) "
   ]
  },
  {
   "cell_type": "code",
   "execution_count": null,
   "id": "6710073c",
   "metadata": {},
   "outputs": [],
   "source": [
    "#Mission_9. 가위,바위,보 게임을 만들어주세요.. (이긴 횟수를 알려주세요.)\n",
    "\n",
    "# 랜덤함수 :: random함수\n",
    "# 컴퓨터에서 a를 임의로 선택하여 할당\n",
    "import random\n",
    "a=[\"가위\", \"바위\", \"보\"]\n",
    "co=random.choice(a)\n",
    "\n",
    "# 입력받기\n",
    "print(\"가위, 바위, 보 게임\")\n",
    "na = input(\"나 : \")\n",
    " \n",
    "# 조건문  승리   \n",
    "if (na==\"가위\" and co==\"보\") or (na==\"바위\" and co==\"가위\") or (na==\"보\" and co==\"바위\") :\n",
    "    print(\"computer:\", co)\n",
    "    print(\"승리\")\n",
    "    win += 1\n",
    "    \n",
    "# 조건문 패배\n",
    "elif (na==\"가위\" and co==\"바위\") or (na==\"바위\" and co==\"보\") or (na==\"보\" and co==\"가위\") :\n",
    "    print(\"computer:\", co)\n",
    "    print(\"패배\")\n",
    "    \n",
    "# 그외 비겼다\n",
    "else :\n",
    "    print(\"computer:\", co)\n",
    "    print(\"비겼다\")\n",
    "    \n",
    "    "
   ]
  },
  {
   "cell_type": "code",
   "execution_count": null,
   "id": "b2f9c29b",
   "metadata": {},
   "outputs": [],
   "source": [
    "#Mission_10. 커피 자판기의 계산프로그램을 만들려고 합니다.(최대 15잔을 뽑을 수 있어요. 잔당 200원)\n",
    "#            돈을 값을 입력 받으면 커피를 뽑을 수 있는 잔수와 잔액을 알려주시면 됩니다. "
   ]
  }
 ],
 "metadata": {
  "kernelspec": {
   "display_name": "Python 3 (ipykernel)",
   "language": "python",
   "name": "python3"
  },
  "language_info": {
   "codemirror_mode": {
    "name": "ipython",
    "version": 3
   },
   "file_extension": ".py",
   "mimetype": "text/x-python",
   "name": "python",
   "nbconvert_exporter": "python",
   "pygments_lexer": "ipython3",
   "version": "3.10.9"
  }
 },
 "nbformat": 4,
 "nbformat_minor": 5
}
