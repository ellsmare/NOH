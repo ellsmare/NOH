{
 "cells": [
  {
   "cell_type": "code",
   "execution_count": 16,
   "id": "5a8c5541",
   "metadata": {},
   "outputs": [
    {
     "name": "stdout",
     "output_type": "stream",
     "text": [
      "input id : id\n",
      "input pwd : pwd\n"
     ]
    }
   ],
   "source": [
    "# 아이디 비밀번호 :: 로그인\n",
    "\n",
    "def input_data():\n",
    "    input_id = input(\"input id : \")\n",
    "    input_pwd = input(\"input pwd : \")\n",
    "    return input_id, input_pwd\n",
    "    \n",
    "def login(a, b):   \n",
    "    id=\"id\"\n",
    "    pwd==\"pwd\"\n",
    "    \n",
    "input_login=input_data()\n"
   ]
  },
  {
   "cell_type": "code",
   "execution_count": null,
   "id": "e04c1c15",
   "metadata": {},
   "outputs": [],
   "source": []
  }
 ],
 "metadata": {
  "kernelspec": {
   "display_name": "Python 3 (ipykernel)",
   "language": "python",
   "name": "python3"
  },
  "language_info": {
   "codemirror_mode": {
    "name": "ipython",
    "version": 3
   },
   "file_extension": ".py",
   "mimetype": "text/x-python",
   "name": "python",
   "nbconvert_exporter": "python",
   "pygments_lexer": "ipython3",
   "version": "3.10.9"
  }
 },
 "nbformat": 4,
 "nbformat_minor": 5
}
