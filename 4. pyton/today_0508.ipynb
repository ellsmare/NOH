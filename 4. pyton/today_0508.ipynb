{
 "cells": [
  {
   "cell_type": "code",
   "execution_count": 1,
   "id": "e7ac3b1a",
   "metadata": {},
   "outputs": [
    {
     "name": "stdout",
     "output_type": "stream",
     "text": [
      "input num : 1\n",
      "<class 'str'>\n"
     ]
    }
   ],
   "source": [
    "num=input(\"input num : \")\n",
    "print(type(num))"
   ]
  },
  {
   "cell_type": "code",
   "execution_count": 2,
   "id": "a8a73bce",
   "metadata": {},
   "outputs": [
    {
     "name": "stdout",
     "output_type": "stream",
     "text": [
      "몫과 나머지를 구하기 n1 :50\n",
      "몪과 나머지 구하기 n2: 5\n"
     ]
    },
    {
     "ename": "TypeError",
     "evalue": "unsupported operand type(s) for /: 'str' and 'str'",
     "output_type": "error",
     "traceback": [
      "\u001b[1;31m---------------------------------------------------------------------------\u001b[0m",
      "\u001b[1;31mTypeError\u001b[0m                                 Traceback (most recent call last)",
      "Cell \u001b[1;32mIn[2], line 4\u001b[0m\n\u001b[0;32m      1\u001b[0m n1\u001b[38;5;241m=\u001b[39m\u001b[38;5;28minput\u001b[39m(\u001b[38;5;124m\"\u001b[39m\u001b[38;5;124m몫과 나머지를 구하기 n1 :\u001b[39m\u001b[38;5;124m\"\u001b[39m)\n\u001b[0;32m      2\u001b[0m n2\u001b[38;5;241m=\u001b[39m\u001b[38;5;28minput\u001b[39m(\u001b[38;5;124m\"\u001b[39m\u001b[38;5;124m몪과 나머지 구하기 n2: \u001b[39m\u001b[38;5;124m\"\u001b[39m)\n\u001b[1;32m----> 4\u001b[0m \u001b[43mn1\u001b[49m\u001b[38;5;241;43m/\u001b[39;49m\u001b[43mn2\u001b[49m\n\u001b[0;32m      5\u001b[0m n1\u001b[38;5;241m%\u001b[39mn2\n",
      "\u001b[1;31mTypeError\u001b[0m: unsupported operand type(s) for /: 'str' and 'str'"
     ]
    }
   ],
   "source": [
    "n1=input(\"몫과 나머지를 구하기 n1 :\")\n",
    "n2=input(\"몪과 나머지 구하기 n2: \")\n",
    "\n",
    "n1/n2\n",
    "n1%n2"
   ]
  },
  {
   "cell_type": "code",
   "execution_count": 3,
   "id": "ec3aa401",
   "metadata": {},
   "outputs": [
    {
     "name": "stdout",
     "output_type": "stream",
     "text": [
      "몫과 나머지 구하기 n1 :50\n",
      "몪과 나머지 구하기 n2: 5\n"
     ]
    },
    {
     "ename": "TypeError",
     "evalue": "not all arguments converted during string formatting",
     "output_type": "error",
     "traceback": [
      "\u001b[1;31m---------------------------------------------------------------------------\u001b[0m",
      "\u001b[1;31mTypeError\u001b[0m                                 Traceback (most recent call last)",
      "Cell \u001b[1;32mIn[3], line 4\u001b[0m\n\u001b[0;32m      1\u001b[0m n1\u001b[38;5;241m=\u001b[39m\u001b[38;5;28minput\u001b[39m(\u001b[38;5;124m\"\u001b[39m\u001b[38;5;124m몫과 나머지 구하기 n1 :\u001b[39m\u001b[38;5;124m\"\u001b[39m)\n\u001b[0;32m      2\u001b[0m n2\u001b[38;5;241m=\u001b[39m\u001b[38;5;28minput\u001b[39m(\u001b[38;5;124m\"\u001b[39m\u001b[38;5;124m몪과 나머지 구하기 n2: \u001b[39m\u001b[38;5;124m\"\u001b[39m)\n\u001b[1;32m----> 4\u001b[0m \u001b[43mn1\u001b[49m\u001b[38;5;241;43m%\u001b[39;49m\u001b[43mn2\u001b[49m\n",
      "\u001b[1;31mTypeError\u001b[0m: not all arguments converted during string formatting"
     ]
    }
   ],
   "source": [
    "n1=input(\"몫과 나머지 구하기 n1 :\")\n",
    "n2=input(\"몪과 나머지 구하기 n2: \")\n",
    "\n",
    "n1%n2\n"
   ]
  },
  {
   "cell_type": "code",
   "execution_count": 4,
   "id": "7e3dbe81",
   "metadata": {},
   "outputs": [
    {
     "name": "stdout",
     "output_type": "stream",
     "text": [
      "몫과 나머지 구하기 n1 :50\n",
      "몪과 나머지 구하기 n2: 5\n"
     ]
    },
    {
     "ename": "TypeError",
     "evalue": "not all arguments converted during string formatting",
     "output_type": "error",
     "traceback": [
      "\u001b[1;31m---------------------------------------------------------------------------\u001b[0m",
      "\u001b[1;31mTypeError\u001b[0m                                 Traceback (most recent call last)",
      "Cell \u001b[1;32mIn[4], line 4\u001b[0m\n\u001b[0;32m      1\u001b[0m n1\u001b[38;5;241m=\u001b[39m\u001b[38;5;28minput\u001b[39m(\u001b[38;5;124m\"\u001b[39m\u001b[38;5;124m몫과 나머지 구하기 n1 :\u001b[39m\u001b[38;5;124m\"\u001b[39m)\n\u001b[0;32m      2\u001b[0m n2\u001b[38;5;241m=\u001b[39m\u001b[38;5;28minput\u001b[39m(\u001b[38;5;124m\"\u001b[39m\u001b[38;5;124m몪과 나머지 구하기 n2: \u001b[39m\u001b[38;5;124m\"\u001b[39m)\n\u001b[1;32m----> 4\u001b[0m \u001b[38;5;28mprint\u001b[39m(\u001b[38;5;124m\"\u001b[39m\u001b[38;5;124m몫은\u001b[39m\u001b[38;5;124m\"\u001b[39m \u001b[38;5;241m+\u001b[39m\u001b[38;5;28mint\u001b[39m(\u001b[43mn1\u001b[49m\u001b[38;5;241;43m%\u001b[39;49m\u001b[43mn2\u001b[49m))\n\u001b[0;32m      5\u001b[0m \u001b[38;5;28mprint\u001b[39m(\u001b[38;5;124m\"\u001b[39m\u001b[38;5;124m나머지는\u001b[39m\u001b[38;5;124m\"\u001b[39m \u001b[38;5;241m+\u001b[39m\u001b[38;5;28mint\u001b[39m(n1\u001b[38;5;241m/\u001b[39mn2))\n",
      "\u001b[1;31mTypeError\u001b[0m: not all arguments converted during string formatting"
     ]
    }
   ],
   "source": [
    "n1=input(\"몫과 나머지 구하기 n1 :\")\n",
    "n2=input(\"몪과 나머지 구하기 n2: \")\n",
    "\n",
    "print(\"몫은\" +int(n1%n2))\n",
    "print(\"나머지는\" +int(n1/n2))\n"
   ]
  },
  {
   "cell_type": "code",
   "execution_count": 5,
   "id": "42c907b3",
   "metadata": {},
   "outputs": [
    {
     "name": "stdout",
     "output_type": "stream",
     "text": [
      "몫과 나머지 구하기 n1 :50\n",
      "몪과 나머지 구하기 n2: 5\n"
     ]
    },
    {
     "ename": "TypeError",
     "evalue": "not all arguments converted during string formatting",
     "output_type": "error",
     "traceback": [
      "\u001b[1;31m---------------------------------------------------------------------------\u001b[0m",
      "\u001b[1;31mTypeError\u001b[0m                                 Traceback (most recent call last)",
      "Cell \u001b[1;32mIn[5], line 4\u001b[0m\n\u001b[0;32m      1\u001b[0m n1\u001b[38;5;241m=\u001b[39m\u001b[38;5;28minput\u001b[39m(\u001b[38;5;124m\"\u001b[39m\u001b[38;5;124m몫과 나머지 구하기 n1 :\u001b[39m\u001b[38;5;124m\"\u001b[39m)\n\u001b[0;32m      2\u001b[0m n2\u001b[38;5;241m=\u001b[39m\u001b[38;5;28minput\u001b[39m(\u001b[38;5;124m\"\u001b[39m\u001b[38;5;124m몪과 나머지 구하기 n2: \u001b[39m\u001b[38;5;124m\"\u001b[39m)\n\u001b[1;32m----> 4\u001b[0m \u001b[38;5;28mprint\u001b[39m(\u001b[38;5;28mint\u001b[39m(\u001b[43mn1\u001b[49m\u001b[38;5;241;43m%\u001b[39;49m\u001b[43mn2\u001b[49m))\n",
      "\u001b[1;31mTypeError\u001b[0m: not all arguments converted during string formatting"
     ]
    }
   ],
   "source": [
    "n1=input(\"몫과 나머지 구하기 n1 :\")\n",
    "n2=input(\"몪과 나머지 구하기 n2: \")\n",
    "\n",
    "print(int(n1%n2))"
   ]
  },
  {
   "cell_type": "code",
   "execution_count": 6,
   "id": "cabd0218",
   "metadata": {},
   "outputs": [
    {
     "name": "stdout",
     "output_type": "stream",
     "text": [
      "몫과 나머지 구하기 n1 :50\n",
      "몪과 나머지 구하기 n2: 5\n"
     ]
    },
    {
     "ename": "TypeError",
     "evalue": "not all arguments converted during string formatting",
     "output_type": "error",
     "traceback": [
      "\u001b[1;31m---------------------------------------------------------------------------\u001b[0m",
      "\u001b[1;31mTypeError\u001b[0m                                 Traceback (most recent call last)",
      "Cell \u001b[1;32mIn[6], line 4\u001b[0m\n\u001b[0;32m      1\u001b[0m n1\u001b[38;5;241m=\u001b[39m\u001b[38;5;28minput\u001b[39m(\u001b[38;5;124m\"\u001b[39m\u001b[38;5;124m몫과 나머지 구하기 n1 :\u001b[39m\u001b[38;5;124m\"\u001b[39m)\n\u001b[0;32m      2\u001b[0m n2\u001b[38;5;241m=\u001b[39m\u001b[38;5;28minput\u001b[39m(\u001b[38;5;124m\"\u001b[39m\u001b[38;5;124m몪과 나머지 구하기 n2: \u001b[39m\u001b[38;5;124m\"\u001b[39m)\n\u001b[1;32m----> 4\u001b[0m \u001b[38;5;28mprint\u001b[39m(\u001b[38;5;28mstr\u001b[39m(\u001b[43mn1\u001b[49m\u001b[38;5;241;43m%\u001b[39;49m\u001b[43mn2\u001b[49m))\n",
      "\u001b[1;31mTypeError\u001b[0m: not all arguments converted during string formatting"
     ]
    }
   ],
   "source": [
    "n1=input(\"몫과 나머지 구하기 n1 :\")\n",
    "n2=input(\"몪과 나머지 구하기 n2: \")\n",
    "\n",
    "print(str(n1%n2))"
   ]
  },
  {
   "cell_type": "code",
   "execution_count": 7,
   "id": "4587952e",
   "metadata": {},
   "outputs": [
    {
     "name": "stdout",
     "output_type": "stream",
     "text": [
      "몫과 나머지 구하기 n1 :50\n",
      "몪과 나머지 구하기 n2: 5\n"
     ]
    },
    {
     "ename": "TypeError",
     "evalue": "not all arguments converted during string formatting",
     "output_type": "error",
     "traceback": [
      "\u001b[1;31m---------------------------------------------------------------------------\u001b[0m",
      "\u001b[1;31mTypeError\u001b[0m                                 Traceback (most recent call last)",
      "Cell \u001b[1;32mIn[7], line 6\u001b[0m\n\u001b[0;32m      3\u001b[0m \u001b[38;5;28mfloat\u001b[39m(n1)\n\u001b[0;32m      4\u001b[0m \u001b[38;5;28mfloat\u001b[39m(n2)\n\u001b[1;32m----> 6\u001b[0m \u001b[38;5;28mprint\u001b[39m(\u001b[38;5;124m\"\u001b[39m\u001b[38;5;124m몫:\u001b[39m\u001b[38;5;124m\"\u001b[39m \u001b[38;5;241m+\u001b[39m(\u001b[43mn1\u001b[49m\u001b[38;5;241;43m%\u001b[39;49m\u001b[43mn2\u001b[49m))\n",
      "\u001b[1;31mTypeError\u001b[0m: not all arguments converted during string formatting"
     ]
    }
   ],
   "source": [
    "n1=input(\"몫과 나머지 구하기 n1 :\")\n",
    "n2=input(\"몪과 나머지 구하기 n2: \")\n",
    "float(n1)\n",
    "float(n2)\n",
    "\n",
    "print(\"몫:\" +(n1%n2))"
   ]
  },
  {
   "cell_type": "code",
   "execution_count": 8,
   "id": "de715746",
   "metadata": {},
   "outputs": [
    {
     "name": "stdout",
     "output_type": "stream",
     "text": [
      "몫과 나머지 구하기 n1 :50\n",
      "몪과 나머지 구하기 n2: 5\n"
     ]
    },
    {
     "ename": "TypeError",
     "evalue": "not all arguments converted during string formatting",
     "output_type": "error",
     "traceback": [
      "\u001b[1;31m---------------------------------------------------------------------------\u001b[0m",
      "\u001b[1;31mTypeError\u001b[0m                                 Traceback (most recent call last)",
      "Cell \u001b[1;32mIn[8], line 6\u001b[0m\n\u001b[0;32m      3\u001b[0m \u001b[38;5;28mfloat\u001b[39m(n1)\n\u001b[0;32m      4\u001b[0m \u001b[38;5;28mfloat\u001b[39m(n2)\n\u001b[1;32m----> 6\u001b[0m \u001b[38;5;28mprint\u001b[39m(\u001b[43mn1\u001b[49m\u001b[38;5;241;43m%\u001b[39;49m\u001b[43mn2\u001b[49m)\n",
      "\u001b[1;31mTypeError\u001b[0m: not all arguments converted during string formatting"
     ]
    }
   ],
   "source": [
    "n1=input(\"몫과 나머지 구하기 n1 :\")\n",
    "n2=input(\"몪과 나머지 구하기 n2: \")\n",
    "float(n1)\n",
    "float(n2)\n",
    "\n",
    "print(n1%n2)\n"
   ]
  },
  {
   "cell_type": "code",
   "execution_count": 9,
   "id": "5c803905",
   "metadata": {},
   "outputs": [
    {
     "name": "stdout",
     "output_type": "stream",
     "text": [
      "몫과 나머지 구하기 n1 :50\n",
      "몪과 나머지 구하기 n2: 5\n"
     ]
    },
    {
     "ename": "TypeError",
     "evalue": "not all arguments converted during string formatting",
     "output_type": "error",
     "traceback": [
      "\u001b[1;31m---------------------------------------------------------------------------\u001b[0m",
      "\u001b[1;31mTypeError\u001b[0m                                 Traceback (most recent call last)",
      "Cell \u001b[1;32mIn[9], line 6\u001b[0m\n\u001b[0;32m      3\u001b[0m \u001b[38;5;28mfloat\u001b[39m(n1)\n\u001b[0;32m      4\u001b[0m \u001b[38;5;28mfloat\u001b[39m(n2)\n\u001b[1;32m----> 6\u001b[0m \u001b[43mn1\u001b[49m\u001b[38;5;241;43m%\u001b[39;49m\u001b[43mn2\u001b[49m\n",
      "\u001b[1;31mTypeError\u001b[0m: not all arguments converted during string formatting"
     ]
    }
   ],
   "source": [
    "n1=input(\"몫과 나머지 구하기 n1 :\")\n",
    "n2=input(\"몪과 나머지 구하기 n2: \")\n",
    "float(n1)\n",
    "float(n2)\n",
    "\n",
    "n1%n2"
   ]
  },
  {
   "cell_type": "code",
   "execution_count": 10,
   "id": "bec50043",
   "metadata": {},
   "outputs": [
    {
     "name": "stdout",
     "output_type": "stream",
     "text": [
      "몫과 나머지 구하기 n1 :50\n",
      "몪과 나머지 구하기 n2: 5\n"
     ]
    },
    {
     "data": {
      "text/plain": [
       "5"
      ]
     },
     "execution_count": 10,
     "metadata": {},
     "output_type": "execute_result"
    }
   ],
   "source": [
    "n1=input(\"몫과 나머지 구하기 n1 :\")\n",
    "n2=input(\"몪과 나머지 구하기 n2: \")\n",
    "int(n1)\n",
    "int(n2)"
   ]
  },
  {
   "cell_type": "code",
   "execution_count": null,
   "id": "607cc0a1",
   "metadata": {},
   "outputs": [],
   "source": [
    "n1=input(\"몫과 나머지 구하기 n1 :\")\n",
    "n2=input(\"몪과 나머지 구하기 n2: \")\n",
    "int(n1)\n",
    "int(n2)"
   ]
  }
 ],
 "metadata": {
  "kernelspec": {
   "display_name": "Python 3 (ipykernel)",
   "language": "python",
   "name": "python3"
  },
  "language_info": {
   "codemirror_mode": {
    "name": "ipython",
    "version": 3
   },
   "file_extension": ".py",
   "mimetype": "text/x-python",
   "name": "python",
   "nbconvert_exporter": "python",
   "pygments_lexer": "ipython3",
   "version": "3.10.9"
  }
 },
 "nbformat": 4,
 "nbformat_minor": 5
}
