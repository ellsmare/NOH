{
 "cells": [
  {
   "cell_type": "code",
   "execution_count": 12,
   "id": "295d0ffa",
   "metadata": {},
   "outputs": [
    {
     "name": "stdout",
     "output_type": "stream",
     "text": [
      "첫번째 수: 9\n",
      "두번째 수: 2\n",
      "두 수의 합은 : 11\n",
      "두 수의 차는 : 7.0\n",
      "두 수의 나누기는 : 4.5\n",
      "두 수의 곱셈은 : 18\n"
     ]
    }
   ],
   "source": [
    "#미션 2 : 원하는 두수를 입력받아서 사칙연산한 결과를 보여주는 프로그래밍을 하시오.\n",
    "a= int(input(\"첫번째 수: \"))\n",
    "b= int(input(\"두번째 수: \"))\n",
    "print(\"두 수의 합은 :\" ,a+b), \n",
    "print(\"두 수의 차는 :\" ,float(a-b)),\n",
    "print(\"두 수의 나누기는 :\" ,a/b),\n",
    "print(\"두 수의 곱셈은 :\" ,a*b)"
   ]
  },
  {
   "cell_type": "code",
   "execution_count": 18,
   "id": "c16e43d9",
   "metadata": {},
   "outputs": [
    {
     "ename": "ModuleNotFoundError",
     "evalue": "No module named 'z4op'",
     "output_type": "error",
     "traceback": [
      "\u001b[1;31m---------------------------------------------------------------------------\u001b[0m",
      "\u001b[1;31mModuleNotFoundError\u001b[0m                       Traceback (most recent call last)",
      "Cell \u001b[1;32mIn[18], line 2\u001b[0m\n\u001b[0;32m      1\u001b[0m \u001b[38;5;66;03m#2번째 방법 - z4op 사칙연산 함수 불러와서 간편하게 작성하기\u001b[39;00m\n\u001b[1;32m----> 2\u001b[0m \u001b[38;5;28;01mimport\u001b[39;00m \u001b[38;5;21;01mz4op\u001b[39;00m\n\u001b[0;32m      3\u001b[0m a\u001b[38;5;241m=\u001b[39m\u001b[38;5;28mint\u001b[39m(\u001b[38;5;28minput\u001b[39m(\u001b[38;5;124m\"\u001b[39m\u001b[38;5;124m숫자 1 입력\u001b[39m\u001b[38;5;124m\"\u001b[39m))\n\u001b[0;32m      4\u001b[0m b\u001b[38;5;241m=\u001b[39m\u001b[38;5;28mint\u001b[39m(\u001b[38;5;28minput\u001b[39m(\u001b[38;5;124m\"\u001b[39m\u001b[38;5;124m숫자 2 입력\u001b[39m\u001b[38;5;124m\"\u001b[39m))\n",
      "\u001b[1;31mModuleNotFoundError\u001b[0m: No module named 'z4op'"
     ]
    }
   ],
   "source": [
    "#2번째 방법 - z4op 사칙연산 함수 불러와서 간편하게 작성하기 (근데 z4op가 안불려져와서 오류남 ㅠㅠ)\n",
    "import z4op\n",
    "a=int(input(\"숫자 1 입력\"))\n",
    "b=int(input(\"숫자 2 입력\"))\n",
    "z4op.addtion(a,b)\n",
    "z4op.divide(a,b)\n",
    "z4op.subtraction(a,b)\n",
    "z4op.multiplication(a,b)"
   ]
  }
 ],
 "metadata": {
  "kernelspec": {
   "display_name": "Python 3 (ipykernel)",
   "language": "python",
   "name": "python3"
  },
  "language_info": {
   "codemirror_mode": {
    "name": "ipython",
    "version": 3
   },
   "file_extension": ".py",
   "mimetype": "text/x-python",
   "name": "python",
   "nbconvert_exporter": "python",
   "pygments_lexer": "ipython3",
   "version": "3.10.9"
  }
 },
 "nbformat": 4,
 "nbformat_minor": 5
}
