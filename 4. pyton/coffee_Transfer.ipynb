{
 "cells": [
  {
   "cell_type": "code",
   "execution_count": 1,
   "id": "1c84d617",
   "metadata": {},
   "outputs": [
    {
     "name": "stdout",
     "output_type": "stream",
     "text": [
      "첫번째 숫자를 입력해주세요100\n",
      "두번째 숫자를 입력해주세요100\n",
      "입력하신 두 숫자의 합은 200, 차는 0, 곱은 10000, 나눗셈 결과는 1입니다.\n"
     ]
    }
   ],
   "source": [
    "#mission2 원하는 두수를 입력받아서 사칙연산한 결과를 보여주는 프로그래밍을 해주세요.\n",
    "num1 = int(input(\"첫번째 숫자를 입력해주세요\"))\n",
    "num2 = int(input(\"두번째 숫자를 입력해주세요\"))\n",
    "\n",
    "plus = num1+num2\n",
    "minus = num1-num2\n",
    "multi = num1*num2\n",
    "divis = int(num1/num2)\n",
    "\n",
    "print(\"입력하신 두 숫자의 합은 \"+ str(plus) + \", 차는 \"+ str(minus)+ \", 곱은 \" + str(multi) + \", 나눗셈 결과는 \" +  str(divis) + \"입니다.\")"
   ]
  },
  {
   "cell_type": "code",
   "execution_count": 6,
   "id": "44922949",
   "metadata": {},
   "outputs": [
    {
     "name": "stdout",
     "output_type": "stream",
     "text": [
      "너 주머니에 얼마있니? :1000\n",
      "돈없어 암것도 하지마....버스타고 가세요\n"
     ]
    }
   ],
   "source": [
    "money = int(input(\"너 주머니에 얼마있니? :\"))\n",
    "coffee = 1500\n",
    "\n",
    "if money < 1000:       \n",
    "    print(\"돈없어 암것도 하지마....\")\n",
    "\n",
    "elif money==1000:\n",
    "    print(\"돈없어 암것도 하지마....버스타고 가세요\")    \n",
    "\n",
    "else:\n",
    "    dec = input(\"커피를 샀나요? (Y/N) : \")\n",
    "    if dec == \"Y\" :\n",
    "        money = money - coffee\n",
    "        if money >= 2000 :\n",
    "            print(\"Taxi 타고가세요\")\n",
    "        elif money >= 1000 : \n",
    "            print(\"버스타고 가세요\")\n",
    "        else:\n",
    "            print(\"커피 사먹으면 니 다리가 고생해!!!!\")\n",
    "    else :\n",
    "        if dec == \"N\" :\n",
    "            if money >= 2000 :\n",
    "                print(\"Taxi 타고가세요\")\n",
    "            else:\n",
    "                print(\"버스타고 가세요\")\n",
    "        else:\n",
    "            print(\"잘못입력하셨어요........\")\n",
    "        "
   ]
  },
  {
   "cell_type": "code",
   "execution_count": null,
   "id": "7dbf39cb",
   "metadata": {},
   "outputs": [],
   "source": []
  }
 ],
 "metadata": {
  "kernelspec": {
   "display_name": "Python 3 (ipykernel)",
   "language": "python",
   "name": "python3"
  },
  "language_info": {
   "codemirror_mode": {
    "name": "ipython",
    "version": 3
   },
   "file_extension": ".py",
   "mimetype": "text/x-python",
   "name": "python",
   "nbconvert_exporter": "python",
   "pygments_lexer": "ipython3",
   "version": "3.10.9"
  }
 },
 "nbformat": 4,
 "nbformat_minor": 5
}
