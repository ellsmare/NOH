{
 "cells": [
  {
   "cell_type": "code",
   "execution_count": 3,
   "id": "2319158f",
   "metadata": {},
   "outputs": [
    {
     "name": "stdout",
     "output_type": "stream",
     "text": [
      "<zip object at 0x00000217031C9280>\n",
      "1값은 a입니다.\n",
      "2값은 b입니다.\n",
      "3값은 c입니다.\n"
     ]
    }
   ],
   "source": [
    "# 페이지 170\n",
    "# 리스트 컴프리헨션\n",
    "\n",
    "# 하나의 오브젝트가 남는다\n",
    "num = [1,2,3]\n",
    "ch=['a','b','c','d']\n",
    "\n",
    "res=zip(num,ch)\n",
    "print(res)\n",
    "\n",
    "for n,c in res:\n",
    "    print(\"%d값은 %s입니다.\" %(n,c))"
   ]
  },
  {
   "cell_type": "code",
   "execution_count": 4,
   "id": "bcce4aa4",
   "metadata": {},
   "outputs": [
    {
     "data": {
      "text/plain": [
       "[1, 2, 3, 4, 5]"
      ]
     },
     "execution_count": 4,
     "metadata": {},
     "output_type": "execute_result"
    }
   ],
   "source": [
    "number_list=[number for number in range(1,6)]\n",
    "number_list"
   ]
  },
  {
   "cell_type": "code",
   "execution_count": 10,
   "id": "3fccc183",
   "metadata": {},
   "outputs": [
    {
     "data": {
      "text/plain": [
       "[1, 3, 5]"
      ]
     },
     "execution_count": 10,
     "metadata": {},
     "output_type": "execute_result"
    }
   ],
   "source": [
    "a_list = [number for number in range(1,6) if number%2 ==1 ]\n",
    "a_list"
   ]
  },
  {
   "cell_type": "code",
   "execution_count": 8,
   "id": "b92a557a",
   "metadata": {},
   "outputs": [
    {
     "data": {
      "text/plain": [
       "[1, 3, 5]"
      ]
     },
     "execution_count": 8,
     "metadata": {},
     "output_type": "execute_result"
    }
   ],
   "source": [
    "a_list =[]\n",
    "for number in range(1,6):\n",
    "    if number % 2 ==1:\n",
    "        a_list.append(number)\n",
    "a_list"
   ]
  },
  {
   "cell_type": "code",
   "execution_count": 11,
   "id": "4eba3edf",
   "metadata": {},
   "outputs": [
    {
     "name": "stdout",
     "output_type": "stream",
     "text": [
      "1 1\n",
      "1 2\n",
      "2 1\n",
      "2 2\n",
      "3 1\n",
      "3 2\n"
     ]
    }
   ],
   "source": [
    "rows=range(1,4)\n",
    "cols= range(1,3)\n",
    "for row in rows:\n",
    "    for col in cols:\n",
    "        print(row, col)"
   ]
  },
  {
   "cell_type": "code",
   "execution_count": 13,
   "id": "8f31617f",
   "metadata": {},
   "outputs": [
    {
     "name": "stdout",
     "output_type": "stream",
     "text": [
      "[(1, 1), (1, 2), (2, 1), (2, 2), (3, 1), (3, 2)]\n",
      "(1, 1)\n",
      "(1, 2)\n",
      "(2, 1)\n",
      "(2, 2)\n",
      "(3, 1)\n",
      "(3, 2)\n"
     ]
    }
   ],
   "source": [
    "rows =range(1,4)\n",
    "cols=range(1,3)\n",
    "cells=[(row,col) for row in rows for col in cols]\n",
    "print(cells)\n",
    "for cell in cells:\n",
    "    print(cell)"
   ]
  },
  {
   "cell_type": "code",
   "execution_count": 23,
   "id": "a5ff3c7f",
   "metadata": {},
   "outputs": [
    {
     "name": "stdout",
     "output_type": "stream",
     "text": [
      "[[1, 2, 3], [3, 4, [1, 5]], [5, 6, 7]]\n",
      "[1, 2, 3]\n",
      "[3, 4, [1, 5]]\n",
      "[5, 6, 7]\n",
      "1\n",
      "5\n",
      "6\n",
      "6\n"
     ]
    }
   ],
   "source": [
    "a_list=[1, 2, 3]\n",
    "b_list=[3, 4, [1, 5]]\n",
    "c_list=[5, 6, 7]\n",
    "\n",
    "all_list=[a_list, b_list, c_list]\n",
    "print(all_list)\n",
    "print(all_list[0])\n",
    "print(all_list[1])\n",
    "print(all_list[2])\n",
    "print(all_list[0][0])\n",
    "print(all_list[1][2][1])\n",
    "print(all_list[2][1])\n",
    "print(all_list[2][1])"
   ]
  },
  {
   "cell_type": "code",
   "execution_count": 25,
   "id": "e5740642",
   "metadata": {},
   "outputs": [
    {
     "data": {
      "text/plain": [
       "{'sad': '우울', 'happry': '기쁨', 'angry': '화남'}"
      ]
     },
     "execution_count": 25,
     "metadata": {},
     "output_type": "execute_result"
    }
   ],
   "source": [
    "# 딕트 :: 불변하는 모든 값을 사용가능\n",
    "# 키는 영어 값은 한글\n",
    "# \n",
    "\n",
    "word={'sad':'우울', 'happry':'기쁨', 'angry':'화남'}\n",
    "word"
   ]
  },
  {
   "cell_type": "code",
   "execution_count": 27,
   "id": "24fde1ec",
   "metadata": {},
   "outputs": [
    {
     "name": "stdout",
     "output_type": "stream",
     "text": [
      "{'sad': '우울', 'happry': '기쁨', 'angry': '화남'}\n",
      "{1: '우울', 2: '기쁨', 3: '화남'}\n",
      "{True: '우울', False: '기쁨'}\n"
     ]
    }
   ],
   "source": [
    "word={'sad':'우울', 'happry':'기쁨', 'angry':'화남'}\n",
    "word_num={1:'우울', 2:'기쁨', 3:'화남'}\n",
    "word_boolean={True:'우울', False:'기쁨'}\n",
    "\n",
    "print(word)\n",
    "print(word_num)e\n",
    "print(word_boolean)"
   ]
  },
  {
   "cell_type": "code",
   "execution_count": 34,
   "id": "8bf4b621",
   "metadata": {},
   "outputs": [
    {
     "data": {
      "text/plain": [
       "{'sad': '우울', 'happry': '기쁨', 'angry': '화남'}"
      ]
     },
     "execution_count": 34,
     "metadata": {},
     "output_type": "execute_result"
    }
   ],
   "source": [
    "acme_customer=dict(sad= '우울', happry= '기쁨', angry = '화남')\n",
    "acme_customer"
   ]
  },
  {
   "cell_type": "code",
   "execution_count": 39,
   "id": "fa7af664",
   "metadata": {},
   "outputs": [
    {
     "ename": "SyntaxError",
     "evalue": "invalid syntax (2840609742.py, line 1)",
     "output_type": "error",
     "traceback": [
      "\u001b[1;36m  Cell \u001b[1;32mIn[39], line 1\u001b[1;36m\u001b[0m\n\u001b[1;33m    x=dict(name=\"Elmer\", def=\"hunter\")\u001b[0m\n\u001b[1;37m                         ^\u001b[0m\n\u001b[1;31mSyntaxError\u001b[0m\u001b[1;31m:\u001b[0m invalid syntax\n"
     ]
    }
   ],
   "source": [
    "x=dict(name=\"Elmer\", def=\"hunter\")\n"
   ]
  },
  {
   "cell_type": "code",
   "execution_count": 63,
   "id": "741cdc45",
   "metadata": {},
   "outputs": [
    {
     "name": "stdout",
     "output_type": "stream",
     "text": [
      "{'a': 1, 'b': 2, 'c': [3, 0]}\n",
      "{'a': 1, 'b': 2, 'c': [3, 0]}\n",
      "True\n"
     ]
    }
   ],
   "source": [
    "signals = { \"a\":1, \"b\":2, \"c\":[3,4]}\n",
    "signal_copy = signals.copy()\n",
    "signals['c'][1]=0\n",
    "print(signal_copy)\n",
    "print(signals)\n",
    "print(signals==signal_copy)"
   ]
  },
  {
   "cell_type": "code",
   "execution_count": 59,
   "id": "47d84445",
   "metadata": {},
   "outputs": [
    {
     "data": {
      "text/plain": [
       "4"
      ]
     },
     "execution_count": 59,
     "metadata": {},
     "output_type": "execute_result"
    }
   ],
   "source": [
    "a=4\n",
    "a\n",
    "b=a\n",
    "b"
   ]
  },
  {
   "cell_type": "code",
   "execution_count": 62,
   "id": "81850c59",
   "metadata": {},
   "outputs": [
    {
     "name": "stdout",
     "output_type": "stream",
     "text": [
      "{'a': 1, 'b': 2, 'c': [3, 1]}\n",
      "{'a': 1, 'b': 2, 'c': [3, 0]}\n",
      "False\n"
     ]
    }
   ],
   "source": [
    "import copy\n",
    "signals = { \"a\":1, \"b\":2, \"c\":[3,4]}\n",
    "signal_copy = copy.deepcopy(signals)\n",
    "signals['c'][1]=0\n",
    "# 전체를 다 가지고 온다\n",
    "signal_copy['c'][1]=1\n",
    "print(signal_copy)\n",
    "print(signals)\n",
    "print(signals==signal_copy)"
   ]
  },
  {
   "cell_type": "code",
   "execution_count": 65,
   "id": "e42c0d04",
   "metadata": {},
   "outputs": [
    {
     "name": "stdout",
     "output_type": "stream",
     "text": [
      "('room', 'ballroom')\n",
      "('weapon', 'lead pipe')\n"
     ]
    }
   ],
   "source": [
    "accusation = {'room':'ballroom', 'weapon':'lead pipe'}\n",
    "for item in accusation.items():\n",
    "    print(item)\n"
   ]
  },
  {
   "cell_type": "code",
   "execution_count": null,
   "id": "b0b4c011",
   "metadata": {},
   "outputs": [],
   "source": []
  }
 ],
 "metadata": {
  "kernelspec": {
   "display_name": "Python 3 (ipykernel)",
   "language": "python",
   "name": "python3"
  },
  "language_info": {
   "codemirror_mode": {
    "name": "ipython",
    "version": 3
   },
   "file_extension": ".py",
   "mimetype": "text/x-python",
   "name": "python",
   "nbconvert_exporter": "python",
   "pygments_lexer": "ipython3",
   "version": "3.10.9"
  }
 },
 "nbformat": 4,
 "nbformat_minor": 5
}
