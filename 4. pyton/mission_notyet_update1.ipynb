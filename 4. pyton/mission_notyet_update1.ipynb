{
 "cells": [
  {
   "cell_type": "code",
   "execution_count": 1,
   "id": "cc9a30e5",
   "metadata": {
    "colab": {
     "base_uri": "https://localhost:8080/"
    },
    "id": "cc9a30e5",
    "outputId": "e38eeff0-4a10-414a-81c0-ce74b33da2c1"
   },
   "outputs": [
    {
     "name": "stdout",
     "output_type": "stream",
     "text": [
      "구구단 출력하기 : 2\n",
      "\n",
      "\n",
      "구구단 2 단\n",
      "2 * 1 = 2\n",
      "2 * 2 = 4\n",
      "2 * 3 = 6\n",
      "2 * 4 = 8\n",
      "2 * 5 = 10\n",
      "2 * 6 = 12\n",
      "2 * 7 = 14\n",
      "2 * 8 = 16\n",
      "2 * 9 = 18\n"
     ]
    }
   ],
   "source": [
    "#Missoin_1.  구구단프로그램을 작성해주세요. \n",
    "#단을 입력하면 입력받은 단까지 모두 출력해주세요.\n",
    "\n",
    "Input = int(input(\"구구단 출력하기 : \"))\n",
    "print(\"\\n\")\n",
    "\n",
    "while True:\n",
    "    print(\"구구단\",Input,\"단\")\n",
    "    for num in range(1,10) :\n",
    "        anw=Input*num\n",
    "        print(Input,\"*\", num,\"=\",anw)\n",
    "        num+=1\n",
    "    break\n"
   ]
  },
  {
   "cell_type": "code",
   "execution_count": 14,
   "id": "5e12d8d1",
   "metadata": {
    "colab": {
     "base_uri": "https://localhost:8080/",
     "height": 277
    },
    "id": "5e12d8d1",
    "outputId": "c617baf4-35fe-4ee7-b470-002c4347a452"
   },
   "outputs": [
    {
     "ename": "IndentationError",
     "evalue": "unexpected indent (319047730.py, line 11)",
     "output_type": "error",
     "traceback": [
      "\u001b[1;36m  Cell \u001b[1;32mIn[14], line 11\u001b[1;36m\u001b[0m\n\u001b[1;33m    if Input%2==0:\u001b[0m\n\u001b[1;37m    ^\u001b[0m\n\u001b[1;31mIndentationError\u001b[0m\u001b[1;31m:\u001b[0m unexpected indent\n"
     ]
    }
   ],
   "source": [
    "# 풀이중입니다.\n",
    "\n",
    "#Missoin_2.  20개의 정수를 입력 받아서 짝수와 홀수를 구분하여 저장해주세요. \n",
    "#           저장된 수의 총합이 얼마인지와 짝수의 합이 큰지 홀수의 합이 큰지를 알려주는 코드를 작성해주세요 \n",
    "\n",
    "while True:\n",
    "    even=[]\n",
    "    Input= int(input(\"입력해주세요\"))   \n",
    "    print(num,\"개 정수를 입력하였습니다\")\n",
    "\n",
    "        if Input%2==0:       \n",
    "            for i in range(1,21) :\n",
    "                even[i]=Input\n",
    "\n",
    "    print(even[0])\n",
    "    "
   ]
  },
  {
   "cell_type": "code",
   "execution_count": 3,
   "id": "8e5c507a",
   "metadata": {
    "colab": {
     "base_uri": "https://localhost:8080/"
    },
    "id": "8e5c507a",
    "outputId": "2324a5d5-fa42-4bdf-8c0e-2611eb4673fb"
   },
   "outputs": [
    {
     "name": "stdout",
     "output_type": "stream",
     "text": [
      "오늘의 기분을 수치로 나타내세요 : 10\n",
      "스트레스가 쌓였습니다. 휴식을 취하세요\n"
     ]
    }
   ],
   "source": [
    "#Mission_3. 오늘의 기분을 입력받아서 입력한 기분 값이 10를 넘으면 그 기분에 맞는 내용을 알려주는 코드를 작성해주세요.\n",
    "feel=int(input(\"오늘의 기분을 수치로 나타내세요 : \"))\n",
    "\n",
    "if feel >9:\n",
    "    print(\"스트레스가 쌓였습니다. 휴식을 취하세요\")\n",
    "else :\n",
    "    print(\"지금은 기분이 좋습니다.\")"
   ]
  },
  {
   "cell_type": "code",
   "execution_count": 1,
   "id": "4fc76025",
   "metadata": {
    "colab": {
     "base_uri": "https://localhost:8080/",
     "height": 241
    },
    "id": "4fc76025",
    "outputId": "d5b389df-4e84-460c-a330-83f4a143b61a"
   },
   "outputs": [
    {
     "ename": "NameError",
     "evalue": "name 'scores' is not defined",
     "output_type": "error",
     "traceback": [
      "\u001b[1;31m---------------------------------------------------------------------------\u001b[0m",
      "\u001b[1;31mNameError\u001b[0m                                 Traceback (most recent call last)",
      "Cell \u001b[1;32mIn[1], line 6\u001b[0m\n\u001b[0;32m      1\u001b[0m \u001b[38;5;66;03m# 풀이중입니다.\u001b[39;00m\n\u001b[0;32m      2\u001b[0m \n\u001b[0;32m      3\u001b[0m \u001b[38;5;66;03m#Mission_4. 아래의 코드를 보고 입력받은 5개의 성적을 기준을 작성하여 코드를 완성해주세요..\u001b[39;00m\n\u001b[0;32m      4\u001b[0m \u001b[38;5;66;03m#           단, 아래의 코드는 변경이 불가능합니다.\u001b[39;00m\n\u001b[1;32m----> 6\u001b[0m mx_index \u001b[38;5;241m=\u001b[39m \u001b[43mscores\u001b[49m\u001b[38;5;241m.\u001b[39mindex(mx_score) \u001b[38;5;241m+\u001b[39m \u001b[38;5;241m1\u001b[39m\n\u001b[0;32m      7\u001b[0m min_index \u001b[38;5;241m=\u001b[39m scores\u001b[38;5;241m.\u001b[39mindex(min_score) \u001b[38;5;241m+\u001b[39m \u001b[38;5;241m1\u001b[39m\n\u001b[0;32m      8\u001b[0m \u001b[38;5;28mprint\u001b[39m( \u001b[38;5;124m\"\u001b[39m\u001b[38;5;124m입력한 성적중 \u001b[39m\u001b[38;5;124m\"\u001b[39m\u001b[38;5;241m+\u001b[39m \u001b[38;5;28mstr\u001b[39m(mx_index) \u001b[38;5;241m+\u001b[39m \u001b[38;5;124m\"\u001b[39m\u001b[38;5;124m번째 점수가 가장 높은 \u001b[39m\u001b[38;5;124m\"\u001b[39m\u001b[38;5;241m+\u001b[39m \u001b[38;5;28mstr\u001b[39m(mx_score) \u001b[38;5;241m+\u001b[39m \u001b[38;5;124m\"\u001b[39m\u001b[38;5;124m입니다.\u001b[39m\u001b[38;5;124m\"\u001b[39m)\n",
      "\u001b[1;31mNameError\u001b[0m: name 'scores' is not defined"
     ]
    }
   ],
   "source": [
    "# 풀이중입니다.\n",
    "\n",
    "#Mission_4. 아래의 코드를 보고 입력받은 5개의 성적을 기준을 작성하여 코드를 완성해주세요..\n",
    "#           단, 아래의 코드는 변경이 불가능합니다.\n",
    "\n",
    "mx_index = scores.index(mx_score) + 1\n",
    "min_index = scores.index(min_score) + 1\n",
    "print( \"입력한 성적중 \"+ str(mx_index) + \"번째 점수가 가장 높은 \"+ str(mx_score) + \"입니다.\")\n",
    "print( \"입력한 성적중 \"+ str(min_index) + \"번째 점수가 가장 낮은 \"+ str(min_score) + \"입니다.\")\n",
    "# 입력한 성적중 #번째 점수가 가장 높은 #점입니다.\n",
    "\n",
    "\n",
    "\n",
    "\n",
    "\n"
   ]
  },
  {
   "cell_type": "code",
   "execution_count": null,
   "id": "d0e5c84e",
   "metadata": {
    "id": "d0e5c84e"
   },
   "outputs": [],
   "source": [
    "#Mission_5. 아래의 Song의 내용을 분석할 수 있는 코드를 작성하여 정략적 수치를 통해 의견을 작성해주세요..\n",
    "\n",
    "# [의견 작성]\n",
    "# 부정적인 단어 사용이 많다. your 단어가 많다 상대를 비판하고 있다\n",
    "\n",
    "\n",
    "song = \"\"\"Fuck you and your mom and your sister and your job and your broke ass car and that shit you call art\n",
    "       fuck you And your friends that i'll never see again everybody but your dog you can all FUCK OFF i swear i meant to mean the best when it ended even try to bite my tongue when you start shit\n",
    "       now you're texting all my friends asking questions hey never even liked you in the first place\"\"\"\n",
    "# song의 문자열을 스플릿해서 dist에 넣기\n",
    "dist=song.split()\n",
    "\n",
    "# 딕셔너리 생성, {값:키}\n",
    "dup={}\n",
    "for word in dist:\n",
    "    if word not in dup.keys():\n",
    "        dup[word]=1\n",
    "    else :\n",
    "        dup[word] += 1\n",
    "        \n",
    "print(dup)\n",
    "\n",
    "!pip install matplotlib\n",
    "import matplotlib.pyplot as plt\n",
    "\n",
    "# 가로축 : key\n",
    "x=[word for word in dup.keys()]\n",
    "# 세로축 : values\n",
    "y=[word for word in dup.values()]\n",
    "\n",
    "\n",
    "plt.figure(figsize=(50,15))\n",
    "\n",
    "plt.bar(x,y, color='b', label='word')\n",
    "\n",
    "plt.xlabel('Word', fontsize=30, color='w')\n",
    "\n",
    "plt.ylabel('Count', fontsize=30, color='w')\n",
    "\n",
    "\n",
    "\n",
    "plt.xticks(x, fontsize=22, color='r')\n",
    "\n",
    "plt.title('Pome of Word Count', fontsize=50, color='w')\n",
    "\n",
    "plt.rcParams['axes.grid'] = True\n",
    "\n",
    "plt.legend(loc=4)\n"
   ]
  },
  {
   "cell_type": "code",
   "execution_count": 5,
   "id": "ad135f5c",
   "metadata": {
    "colab": {
     "base_uri": "https://localhost:8080/"
    },
    "id": "ad135f5c",
    "outputId": "78285176-4f69-4927-b729-928e24f33fcd"
   },
   "outputs": [
    {
     "name": "stdout",
     "output_type": "stream",
     "text": [
      "이름입력 : aaa\n",
      "점수입력 : 80\n",
      "aaa 학점 :  B\n"
     ]
    }
   ],
   "source": [
    "#Mission_6. 이름과 점수를 입력하면 학점을 반환하여 저장하는 코드를 작성해주세요.\n",
    "\n",
    "while True:\n",
    "    name = input(\"이름입력 : \") \n",
    "    score = int(input(\"점수입력 : \"))\n",
    "    if score>89:    \n",
    "        name_score=\"A\"\n",
    "        print(name,\"학점 : \", name_score)\n",
    "        break\n",
    "        \n",
    "    elif score >79:    \n",
    "        name_score=\"B\"\n",
    "        print(name,\"학점 : \", name_score)\n",
    "        break\n",
    "   \n",
    "    elif score >69:    \n",
    "        name_score=\"C\"\n",
    "        print(name,\"학점 : \", name_score)\n",
    "        break  \n",
    "       \n",
    "    elif score >59:    \n",
    "        name_score=\"C\"\n",
    "        print(name,\"학점 : \", name_score)\n",
    "        break          \n",
    "       \n",
    "    else:    \n",
    "        name_score=\"F\"\n",
    "        print(name,\"학점 : \", name_score)\n",
    "        break     \n",
    "   "
   ]
  },
  {
   "cell_type": "code",
   "execution_count": 7,
   "id": "585b61de",
   "metadata": {
    "colab": {
     "base_uri": "https://localhost:8080/"
    },
    "id": "585b61de",
    "outputId": "62776ef9-dab6-4934-8ff7-ea602565fba8"
   },
   "outputs": [
    {
     "name": "stdout",
     "output_type": "stream",
     "text": [
      "숫자입력6\n",
      "1\n",
      "1\n",
      "2\n",
      "3\n",
      "5\n",
      "8\n"
     ]
    }
   ],
   "source": [
    "#Mission_7. 피보나치수열은 첫째 및 둘째 항이 1이며 그 뒤의 모든 항은 바로 앞 두 항의 합인 수열이다.\n",
    "#           수열을 코드로 작성해주세요.\n",
    "\n",
    "# 초기화\n",
    "a, b = 0,1\n",
    "# 입력값까지 피보나치 수열 출력\n",
    "n=int(input(\"숫자입력\"))\n",
    "print(b)\n",
    "# a=b, b=a+b\n",
    "# a, b = 1, 0+1\n",
    "# a, b = 0+1, 1+1\n",
    "# a, b = 1+1, 1+2\n",
    "# a, b = 1+2, 2+3\n",
    "for i in range(n-1):\n",
    "    a, b = b, a+b\n",
    "    print(b)"
   ]
  },
  {
   "cell_type": "code",
   "execution_count": 10,
   "id": "180bf7a1",
   "metadata": {
    "colab": {
     "base_uri": "https://localhost:8080/"
    },
    "id": "180bf7a1",
    "outputId": "75e798e4-1fa6-4ece-edb7-328de82fa576"
   },
   "outputs": [
    {
     "name": "stdout",
     "output_type": "stream",
     "text": [
      "233168\n"
     ]
    }
   ],
   "source": [
    "#Missoin_8. 아래의 내용을 보고 결과를 출력하는 코드를 작성해주세요.\n",
    "'''10보다 작은 자연수 중에서 3 또는 5의 배수는 3, 5, 6, 9 이고, 이것을 모두 더하면 23입니다.\n",
    "   1000보다 작은 자연수 중에서 3 또는 5의 배수를 모두 더하면 얼마일까요?'''\n",
    "   \n",
    "sum=0\n",
    "for i in range(1,1000):\n",
    "    if (i%3==0) | (i%5==0) :\n",
    "        num=i\n",
    "        sum +=num\n",
    "        \n",
    "print(sum) "
   ]
  },
  {
   "cell_type": "code",
   "execution_count": 33,
   "id": "6710073c",
   "metadata": {
    "colab": {
     "base_uri": "https://localhost:8080/"
    },
    "id": "6710073c",
    "outputId": "b84d4f78-af65-4b10-8252-1c8874d7884c"
   },
   "outputs": [
    {
     "name": "stdout",
     "output_type": "stream",
     "text": [
      "가위, 바위, 보 게임 횟수 : 5\n",
      "가위, 바위, 보 게임 시작\n",
      "나 : 보\n",
      "computer: 보\n",
      "비겼다\n",
      "\n",
      "가위, 바위, 보 게임 시작\n",
      "나 : 가위\n",
      "computer: 보\n",
      "성공 \n",
      "\n",
      "가위, 바위, 보 게임 시작\n",
      "나 : ㅗ\n",
      "computer: 바위\n",
      "비겼다\n",
      "\n",
      "가위, 바위, 보 게임 시작\n",
      "나 : 가위\n",
      "computer: 가위\n",
      "비겼다\n",
      "\n",
      "가위, 바위, 보 게임 시작\n",
      "나 : 가위\n",
      "computer: 가위\n",
      "비겼다\n",
      "\n",
      "게임이 종료되었습니다\n",
      "총 승리 회수 :  1 번 \n",
      "\n"
     ]
    }
   ],
   "source": [
    "#Mission_9. 가위,바위,보 게임을 만들어주세요.. (이긴 횟수를 알려주세요.).  \n",
    "\n",
    "# 랜덤함수 :: random함수\n",
    "# 컴퓨터에서 a를 임의로 선택하여 할당\n",
    "\n",
    "num=int(input(\"가위, 바위, 보 게임 횟수 : \"))\n",
    "win=0\n",
    "\n",
    "for i in range(num):\n",
    "  import random\n",
    "  a=[\"가위\", \"바위\", \"보\"]\n",
    "  co=random.choice(a)\n",
    "\n",
    "  # 입력받기\n",
    "  print(\"가위, 바위, 보 게임 시작\")\n",
    "  Na = input(\"나 : \")\n",
    " \n",
    "\n",
    "  # 조건문  승리   \n",
    "  if (Na==\"가위\" and co==\"보\") or (Na==\"바위\" and co==\"가위\") or (Na==\"보\" and co==\"바위\") :\n",
    "    print(\"computer:\", co)\n",
    "    # 승리 횟수를 프린트 :: 마지막에 총 승리 횟수를 출력하고 싶어서 밑으로 빼니깐 실패\n",
    "    win += 1\n",
    "    print(\"성공 \\n\")\n",
    "    \n",
    "    \n",
    "  # 조건문 패배\n",
    "  elif (Na==\"가위\" and co==\"바위\") or (Na==\"바위\" and co==\"보\") or (Na==\"보\" and co==\"가위\") :\n",
    "    print(\"computer:\", co)\n",
    "    print(\"패배 \\n\")\n",
    "    \n",
    "  # 그외 비겼다\n",
    "  else :\n",
    "    print(\"computer:\", co)\n",
    "    print(\"비겼다\\n\")\n",
    "print(\"게임이 종료되었습니다\")\n",
    "print(\"총 승리 회수 : \", win,\"번 \\n\")\n"
   ]
  },
  {
   "cell_type": "code",
   "execution_count": 39,
   "id": "b2f9c29b",
   "metadata": {
    "colab": {
     "base_uri": "https://localhost:8080/"
    },
    "id": "b2f9c29b",
    "outputId": "3fce1d13-a03c-4fb1-e2f0-67c86700c91a"
   },
   "outputs": [
    {
     "name": "stdout",
     "output_type": "stream",
     "text": [
      "돈을 입력하세요 : 2999\n",
      "14 잔 뽑을 수 있습니다.\n",
      "199 원 남았습니다.\n"
     ]
    }
   ],
   "source": [
    "#Mission_10. 커피 자판기의 계산프로그램을 만들려고 합니다.(최대 15잔을 뽑을 수 있어요. 잔당 200원)\n",
    "#            돈을 값을 입력 받으면 커피를 뽑을 수 있는 잔수와 잔액을 알려주시면 됩니다. \n",
    "\n",
    "money = int(input(\"돈을 입력하세요 : \"))\n",
    "coffee = 200\n",
    "cup=0\n",
    "\n",
    "for i in range(16) :\n",
    "  if money-coffee>-1 :\n",
    "    cup += 1\n",
    "    money -= 200 \n",
    "\n",
    "  else :    \n",
    "    break \n",
    "print(cup, \"잔 뽑을 수 있습니다.\")\n",
    "print(money, \"원 남았습니다.\")"
   ]
  }
 ],
 "metadata": {
  "colab": {
   "provenance": []
  },
  "kernelspec": {
   "display_name": "Python 3 (ipykernel)",
   "language": "python",
   "name": "python3"
  },
  "language_info": {
   "codemirror_mode": {
    "name": "ipython",
    "version": 3
   },
   "file_extension": ".py",
   "mimetype": "text/x-python",
   "name": "python",
   "nbconvert_exporter": "python",
   "pygments_lexer": "ipython3",
   "version": "3.10.9"
  }
 },
 "nbformat": 4,
 "nbformat_minor": 5
}
